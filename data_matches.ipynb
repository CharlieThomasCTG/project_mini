{
 "cells": [
  {
   "cell_type": "code",
   "execution_count": 30,
   "metadata": {},
   "outputs": [],
   "source": [
    "# Importing the necessary libraries\n",
    "import pandas as pd\n",
    "import numpy as np\n",
    "import seaborn as sns\n",
    "import matplotlib.pyplot as plt\n",
    "from datetime import timedelta\n"
   ]
  },
  {
   "cell_type": "code",
   "execution_count": 31,
   "metadata": {},
   "outputs": [
    {
     "name": "stdout",
     "output_type": "stream",
     "text": [
      "    user_id activity_date match_type  finish_position  bots  n_matches\n",
      "0  306741.0    01/03/2024          A              4.0     2          1\n",
      "1  306039.0    01/03/2024          C              4.0     0          1\n",
      "2  306039.0    01/03/2024          C              3.0     0          1\n",
      "3  287555.0    01/03/2024          A              1.0     3          1\n",
      "4  287555.0    01/03/2024          A              2.0     3          4\n",
      "<class 'pandas.core.frame.DataFrame'>\n",
      "RangeIndex: 443380 entries, 0 to 443379\n",
      "Data columns (total 6 columns):\n",
      " #   Column           Non-Null Count   Dtype  \n",
      "---  ------           --------------   -----  \n",
      " 0   user_id          443380 non-null  float64\n",
      " 1   activity_date    443380 non-null  object \n",
      " 2   match_type       443380 non-null  object \n",
      " 3   finish_position  439783 non-null  float64\n",
      " 4   bots             443380 non-null  int64  \n",
      " 5   n_matches        443380 non-null  int64  \n",
      "dtypes: float64(2), int64(2), object(2)\n",
      "memory usage: 20.3+ MB\n",
      "None\n"
     ]
    }
   ],
   "source": [
    "import pandas as pd\n",
    "\n",
    "# Load the dataset\n",
    "df_data_matches = pd.read_csv('data_matches.csv')\n",
    "\n",
    "# Display the first few rows of the dataframe\n",
    "print(df_data_matches.head())\n",
    "\n",
    "# Check for any missing values and data types\n",
    "print(df_data_matches.info())\n",
    "\n"
   ]
  },
  {
   "cell_type": "code",
   "execution_count": 32,
   "metadata": {},
   "outputs": [
    {
     "name": "stdout",
     "output_type": "stream",
     "text": [
      "user_id               0\n",
      "activity_date         0\n",
      "match_type            0\n",
      "finish_position    3597\n",
      "bots                  0\n",
      "n_matches             0\n",
      "dtype: int64\n"
     ]
    }
   ],
   "source": [
    "# Check for missing values\n",
    "print(df_data_matches.isnull().sum())\n",
    "\n",
    "# Handling missing values if necessary\n",
    "df_data_matches.dropna(inplace=True)"
   ]
  },
  {
   "cell_type": "code",
   "execution_count": 33,
   "metadata": {},
   "outputs": [
    {
     "name": "stdout",
     "output_type": "stream",
     "text": [
      "             user_id  finish_position           bots      n_matches\n",
      "count  439783.000000    439783.000000  439783.000000  439783.000000\n",
      "mean   290676.074087         2.513158       1.196520       1.714923\n",
      "std     10826.396405         1.128709       1.101346       1.251691\n",
      "min    272069.000000         1.000000       0.000000       1.000000\n",
      "25%    281328.000000         1.000000       0.000000       1.000000\n",
      "50%    290423.000000         3.000000       1.000000       1.000000\n",
      "75%    300304.000000         4.000000       2.000000       2.000000\n",
      "max    309402.000000         4.000000       3.000000      19.000000\n"
     ]
    }
   ],
   "source": [
    "# Basic Descriptive Statistics\n",
    "# Get an overview of the numerical columns to understand the distribution of data:\n",
    "\n",
    "# Get descriptive statistics for numerical columns\n",
    "print(df_data_matches.describe())"
   ]
  },
  {
   "cell_type": "code",
   "execution_count": 34,
   "metadata": {},
   "outputs": [
    {
     "name": "stdout",
     "output_type": "stream",
     "text": [
      "match_type\n",
      "A    178480\n",
      "B    144866\n",
      "C    116437\n",
      "Name: count, dtype: int64\n",
      "  match_type  finish_position\n",
      "0          A         2.501709\n",
      "1          B         2.548037\n",
      "2          C         2.487311\n"
     ]
    }
   ],
   "source": [
    "# Analyze Match Types and Performance\n",
    "# Examine the distribution of matches across different types and user performance:\n",
    "# Distribution of match types\n",
    "match_type_counts = df_data_matches['match_type'].value_counts()\n",
    "print(match_type_counts)\n",
    "\n",
    "# Average finish position per match type\n",
    "avg_finish_position = df_data_matches.groupby('match_type')['finish_position'].mean().reset_index()\n",
    "print(avg_finish_position)"
   ]
  },
  {
   "cell_type": "code",
   "execution_count": 35,
   "metadata": {},
   "outputs": [
    {
     "name": "stdout",
     "output_type": "stream",
     "text": [
      "        user_id  finish_position\n",
      "14100  290732.0              1.0\n",
      "16630  294077.0              1.0\n",
      "16627  294073.0              1.0\n",
      "7046   281332.0              1.0\n",
      "7047   281333.0              1.0\n",
      "16626  294072.0              1.0\n",
      "16618  294063.0              1.0\n",
      "7041   281327.0              1.0\n",
      "24409  304386.0              1.0\n",
      "16611  294053.0              1.0\n",
      "        user_id  finish_position\n",
      "13770  290279.0              4.0\n",
      "8702   283562.0              4.0\n",
      "13670  290145.0              4.0\n",
      "8727   283590.0              4.0\n",
      "1444   273975.0              4.0\n",
      "25093  305273.0              4.0\n",
      "26171  306726.0              4.0\n",
      "25102  305289.0              4.0\n",
      "27471  308446.0              4.0\n",
      "27158  308031.0              4.0\n"
     ]
    }
   ],
   "source": [
    "# Analyze User Performance\n",
    "# Identify the best and worst-performing users based on their average finish position:\n",
    "\n",
    "# Average finish position per user\n",
    "user_performance = df_data_matches.groupby('user_id')['finish_position'].mean().reset_index()\n",
    "user_performance = user_performance.sort_values(by='finish_position')  # Lower finish positions are better\n",
    "\n",
    "# Top 10 best-performing users\n",
    "print(user_performance.head(10))\n",
    "\n",
    "# Top 10 worst-performing users\n",
    "print(user_performance.tail(10))"
   ]
  },
  {
   "cell_type": "code",
   "execution_count": 36,
   "metadata": {},
   "outputs": [
    {
     "name": "stdout",
     "output_type": "stream",
     "text": [
      "Average Finish Position with Bots: 2.4528981712298634\n",
      "Average Finish Position without Bots: 2.625700145408546\n"
     ]
    }
   ],
   "source": [
    "# Analyze the Impact of Bots on Match Outcomes\n",
    "# Investigate whether matches involving bots have different outcomes:\n",
    "\n",
    "# Matches with and without bots\n",
    "matches_with_bots = df_data_matches[df_data_matches['bots'] > 0]\n",
    "matches_without_bots = df_data_matches[df_data_matches['bots'] == 0]\n",
    "\n",
    "# Average finish position in matches with and without bots\n",
    "avg_finish_with_bots = matches_with_bots['finish_position'].mean()\n",
    "avg_finish_without_bots = matches_without_bots['finish_position'].mean()\n",
    "\n",
    "print(f\"Average Finish Position with Bots: {avg_finish_with_bots}\")\n",
    "print(f\"Average Finish Position without Bots: {avg_finish_without_bots}\")"
   ]
  },
  {
   "cell_type": "code",
   "execution_count": 37,
   "metadata": {},
   "outputs": [
    {
     "name": "stdout",
     "output_type": "stream",
     "text": [
      "        user_id  n_matches\n",
      "20763  299547.0       3154\n",
      "26368  306975.0       2487\n",
      "25823  306255.0       2432\n",
      "5289   279001.0       2428\n",
      "18410  296423.0       2281\n",
      "4930   278513.0       2160\n",
      "7817   282387.0       2090\n",
      "5843   279753.0       1984\n",
      "8734   283604.0       1925\n",
      "10412  285829.0       1776\n"
     ]
    }
   ],
   "source": [
    "# Analyze User Engagement\n",
    "# Look into user engagement by the number of matches played:\n",
    "\n",
    "# Total number of matches played by each user\n",
    "user_engagement = df_data_matches.groupby('user_id')['n_matches'].sum().reset_index()\n",
    "user_engagement = user_engagement.sort_values(by='n_matches', ascending=False)\n",
    "\n",
    "# Top 10 most engaged users\n",
    "print(user_engagement.head(10))"
   ]
  },
  {
   "cell_type": "code",
   "execution_count": 38,
   "metadata": {},
   "outputs": [
    {
     "data": {
      "image/png": "[encoded data removed]",
      "text/plain": [
       "<Figure size 576x360 with 1 Axes>"
      ]
     },
     "metadata": {
      "needs_background": "light"
     },
     "output_type": "display_data"
    },
    {
     "data": {
      "image/png": "[encoded data removed]",
      "text/plain": [
       "<Figure size 576x360 with 1 Axes>"
      ]
     },
     "metadata": {
      "needs_background": "light"
     },
     "output_type": "display_data"
    },
    {
     "data": {
      "image/png": "[encoded data removed]",
      "text/plain": [
       "<Figure size 576x360 with 1 Axes>"
      ]
     },
     "metadata": {
      "needs_background": "light"
     },
     "output_type": "display_data"
    }
   ],
   "source": [
    "# Visualize Insights\n",
    "# Use visualizations to make the data more understandable:\n",
    "\n",
    "import matplotlib.pyplot as plt\n",
    "import seaborn as sns\n",
    "\n",
    "# Bar plot for match type counts\n",
    "plt.figure(figsize=(8, 5))\n",
    "sns.barplot(x=match_type_counts.index, y=match_type_counts.values)\n",
    "plt.title('Number of Matches per Match Type')\n",
    "plt.xlabel('Match Type')\n",
    "plt.ylabel('Number of Matches')\n",
    "plt.show()\n",
    "\n",
    "# Distribution of average finish position per match type\n",
    "plt.figure(figsize=(8, 5))\n",
    "sns.barplot(data=avg_finish_position, x='match_type', y='finish_position')\n",
    "plt.title('Average Finish Position per Match Type')\n",
    "plt.xlabel('Match Type')\n",
    "plt.ylabel('Average Finish Position')\n",
    "plt.show()\n",
    "\n",
    "# Distribution of average finish position with and without bots\n",
    "plt.figure(figsize=(8, 5))\n",
    "sns.barplot(x=['With Bots', 'Without Bots'], y=[avg_finish_with_bots, avg_finish_without_bots])\n",
    "plt.title('Average Finish Position in Matches With and Without Bots')\n",
    "plt.ylabel('Average Finish Position')\n",
    "plt.show()"
   ]
  },
  {
   "cell_type": "code",
   "execution_count": 39,
   "metadata": {},
   "outputs": [
    {
     "name": "stdout",
     "output_type": "stream",
     "text": [
      "period\n",
      "01/03/2024 to 06/03/2024    14304\n",
      "06/03/2024 to 11/03/2024    18506\n",
      "11/03/2024 to 16/03/2024    24168\n",
      "16/03/2024 to 21/03/2024    29877\n",
      "21/03/2024 to 26/03/2024    32603\n",
      "26/03/2024 to 31/03/2024    37907\n",
      "31/03/2024 to 05/04/2024    39538\n",
      "05/04/2024 to 10/04/2024    43082\n",
      "10/04/2024 to 15/04/2024    46519\n",
      "15/04/2024 to 20/04/2024    49675\n",
      "20/04/2024 to 25/04/2024    52443\n",
      "25/04/2024 to 30/04/2024    42517\n",
      "dtype: int64\n"
     ]
    },
    {
     "data": {
      "image/png": "[encoded data removed]",
      "text/plain": [
       "<Figure size 864x432 with 1 Axes>"
      ]
     },
     "metadata": {
      "needs_background": "light"
     },
     "output_type": "display_data"
    }
   ],
   "source": [
    "import pandas as pd\n",
    "import matplotlib.pyplot as plt\n",
    "import seaborn as sns\n",
    "\n",
    "# Convert 'activity_date' to datetime format\n",
    "df_data_matches['activity_date'] = pd.to_datetime(df_data_matches['activity_date'], format='%d/%m/%Y')\n",
    "\n",
    "# Determine the start and end dates\n",
    "start_date = df_data_matches['activity_date'].min()\n",
    "end_date = df_data_matches['activity_date'].max()\n",
    "\n",
    "# Create 5-day periods\n",
    "bins = pd.date_range(start=start_date, end=end_date + pd.Timedelta(days=1), freq='5D')\n",
    "labels = [f'{bins[i].strftime(\"%d/%m/%Y\")} to {bins[i + 1].strftime(\"%d/%m/%Y\")}' for i in range(len(bins) - 1)]\n",
    "\n",
    "# Add the bins to the DataFrame\n",
    "df_data_matches['period'] = pd.cut(df_data_matches['activity_date'], bins=bins, labels=labels, include_lowest=True)\n",
    "\n",
    "# Count the number of matches per period with observed=True to avoid future warnings\n",
    "matches_per_period = df_data_matches.groupby('period', observed=True).size()\n",
    "\n",
    "# Print results\n",
    "print(matches_per_period)\n",
    "\n",
    "# Plotting\n",
    "plt.figure(figsize=(12, 6))\n",
    "matches_per_period.plot(kind='bar', color='skyblue')\n",
    "plt.title('Number of Matches Played per 5-Day Period')\n",
    "plt.xlabel('5-Day Period')\n",
    "plt.ylabel('Number of Matches')\n",
    "plt.xticks(rotation=45)\n",
    "plt.tight_layout()\n",
    "plt.show()\n",
    "\n"
   ]
  },
  {
   "cell_type": "code",
   "execution_count": null,
   "metadata": {},
   "outputs": [],
   "source": []
  },
  {
   "cell_type": "code",
   "execution_count": 40,
   "metadata": {},
   "outputs": [
    {
     "name": "stdout",
     "output_type": "stream",
     "text": [
      "Average Finish Position for Each Number of Bots:\n",
      "   bots  finish_position\n",
      "0     0         2.625700\n",
      "1     1         2.627094\n",
      "2     2         2.609919\n",
      "3     3         2.010644\n"
     ]
    },
    {
     "data": {
      "image/png": "[encoded data removed]",
      "text/plain": [
       "<Figure size 720x432 with 1 Axes>"
      ]
     },
     "metadata": {
      "needs_background": "light"
     },
     "output_type": "display_data"
    }
   ],
   "source": [
    "# Calculate the average finish_position for each number of bots\n",
    "average_finish_position = df_data_matches.groupby('bots')['finish_position'].mean().reset_index()\n",
    "\n",
    "# Print the results\n",
    "print(\"Average Finish Position for Each Number of Bots:\")\n",
    "print(average_finish_position)\n",
    "\n",
    "# Optionally, plot the results\n",
    "plt.figure(figsize=(10, 6))\n",
    "sns.barplot(x='finish_position', y='bots', data=average_finish_position, hue='bots', palette='viridis', legend=False)\n",
    "plt.title('Average Finish Position for Each Number of Bots')\n",
    "plt.xlabel('Finish Position')\n",
    "plt.ylabel('Number of Bots')\n",
    "plt.show()\n"
   ]
  },
  {
   "cell_type": "code",
   "execution_count": 41,
   "metadata": {},
   "outputs": [
    {
     "name": "stdout",
     "output_type": "stream",
     "text": [
      "Percentage of First-Place Finishes for Each Number of Bots:\n",
      "   bots  percentage_first_place\n",
      "0     0               20.553465\n",
      "1     1               20.443352\n",
      "2     2               22.819988\n",
      "3     3               45.846792\n",
      "\n",
      "Bot Number with Highest Percentage of First-Place Finishes:\n",
      "bots                       3.000000\n",
      "percentage_first_place    45.846792\n",
      "Name: 3, dtype: float64\n"
     ]
    }
   ],
   "source": [
    "\n",
    "\n",
    "# Calculate the total number of matches and number of first-place finishes for each number of bots\n",
    "total_matches = df_data_matches.groupby('bots').size()\n",
    "first_place_finishes = df_data_matches[df_data_matches['finish_position'] == 1].groupby('bots').size()\n",
    "\n",
    "# Calculate the percentage of first-place finishes\n",
    "percentage_first_place = (first_place_finishes / total_matches * 100).fillna(0).reset_index()\n",
    "percentage_first_place.columns = ['bots', 'percentage_first_place']\n",
    "\n",
    "# Find the bot number with the highest percentage of first-place finishes\n",
    "max_percentage_bot = percentage_first_place.loc[percentage_first_place['percentage_first_place'].idxmax()]\n",
    "\n",
    "# Print the results\n",
    "print(\"Percentage of First-Place Finishes for Each Number of Bots:\")\n",
    "print(percentage_first_place)\n",
    "print(\"\\nBot Number with Highest Percentage of First-Place Finishes:\")\n",
    "print(max_percentage_bot)\n"
   ]
  },
  {
   "cell_type": "code",
   "execution_count": 42,
   "metadata": {},
   "outputs": [
    {
     "ename": "KeyError",
     "evalue": "\"['activity_level'] not in index\"",
     "output_type": "error",
     "traceback": [
      "\u001b[1;31m---------------------------------------------------------------------------\u001b[0m",
      "\u001b[1;31mKeyError\u001b[0m                                  Traceback (most recent call last)",
      "Input \u001b[1;32mIn [42]\u001b[0m, in \u001b[0;36m<cell line: 22>\u001b[1;34m()\u001b[0m\n\u001b[0;32m     18\u001b[0m low_threshold \u001b[38;5;241m=\u001b[39m player_match_counts[\u001b[38;5;124m'\u001b[39m\u001b[38;5;124mtotal_matches\u001b[39m\u001b[38;5;124m'\u001b[39m]\u001b[38;5;241m.\u001b[39mquantile(\u001b[38;5;241m0.2\u001b[39m)\n\u001b[0;32m     21\u001b[0m \u001b[38;5;66;03m# Merge activity levels back into the original filtered DataFrame\u001b[39;00m\n\u001b[1;32m---> 22\u001b[0m filtered_df \u001b[38;5;241m=\u001b[39m filtered_df\u001b[38;5;241m.\u001b[39mmerge(\u001b[43mplayer_match_counts\u001b[49m\u001b[43m[\u001b[49m\u001b[43m[\u001b[49m\u001b[38;5;124;43m'\u001b[39;49m\u001b[38;5;124;43muser_id\u001b[39;49m\u001b[38;5;124;43m'\u001b[39;49m\u001b[43m,\u001b[49m\u001b[43m \u001b[49m\u001b[38;5;124;43m'\u001b[39;49m\u001b[38;5;124;43mactivity_level\u001b[39;49m\u001b[38;5;124;43m'\u001b[39;49m\u001b[43m]\u001b[49m\u001b[43m]\u001b[49m, on\u001b[38;5;241m=\u001b[39m\u001b[38;5;124m'\u001b[39m\u001b[38;5;124muser_id\u001b[39m\u001b[38;5;124m'\u001b[39m, how\u001b[38;5;241m=\u001b[39m\u001b[38;5;124m'\u001b[39m\u001b[38;5;124mleft\u001b[39m\u001b[38;5;124m'\u001b[39m)\n\u001b[0;32m     24\u001b[0m \u001b[38;5;66;03m# Calculate summary statistics for each activity level\u001b[39;00m\n\u001b[0;32m     25\u001b[0m activity_summary \u001b[38;5;241m=\u001b[39m filtered_df\u001b[38;5;241m.\u001b[39mgroupby(\u001b[38;5;124m'\u001b[39m\u001b[38;5;124mactivity_level\u001b[39m\u001b[38;5;124m'\u001b[39m)\u001b[38;5;241m.\u001b[39magg(\n\u001b[0;32m     26\u001b[0m     total_matches\u001b[38;5;241m=\u001b[39m(\u001b[38;5;124m'\u001b[39m\u001b[38;5;124mn_matches\u001b[39m\u001b[38;5;124m'\u001b[39m, \u001b[38;5;124m'\u001b[39m\u001b[38;5;124msum\u001b[39m\u001b[38;5;124m'\u001b[39m),\n\u001b[0;32m     27\u001b[0m     player_count\u001b[38;5;241m=\u001b[39m(\u001b[38;5;124m'\u001b[39m\u001b[38;5;124muser_id\u001b[39m\u001b[38;5;124m'\u001b[39m, \u001b[38;5;124m'\u001b[39m\u001b[38;5;124mnunique\u001b[39m\u001b[38;5;124m'\u001b[39m),\n\u001b[0;32m     28\u001b[0m     average_bots_per_match\u001b[38;5;241m=\u001b[39m(\u001b[38;5;124m'\u001b[39m\u001b[38;5;124mbots\u001b[39m\u001b[38;5;124m'\u001b[39m, \u001b[38;5;124m'\u001b[39m\u001b[38;5;124mmean\u001b[39m\u001b[38;5;124m'\u001b[39m),\n\u001b[0;32m     29\u001b[0m     average_position_per_match\u001b[38;5;241m=\u001b[39m(\u001b[38;5;124m'\u001b[39m\u001b[38;5;124mfinish_position\u001b[39m\u001b[38;5;124m'\u001b[39m, \u001b[38;5;124m'\u001b[39m\u001b[38;5;124mmean\u001b[39m\u001b[38;5;124m'\u001b[39m)\n\u001b[0;32m     30\u001b[0m )\u001b[38;5;241m.\u001b[39mreset_index()\n",
      "File \u001b[1;32m~\\AppData\\Local\\Packages\\PythonSoftwareFoundation.Python.3.10_qbz5n2kfra8p0\\LocalCache\\local-packages\\Python310\\site-packages\\pandas\\core\\frame.py:4108\u001b[0m, in \u001b[0;36mDataFrame.__getitem__\u001b[1;34m(self, key)\u001b[0m\n\u001b[0;32m   4106\u001b[0m     \u001b[38;5;28;01mif\u001b[39;00m is_iterator(key):\n\u001b[0;32m   4107\u001b[0m         key \u001b[38;5;241m=\u001b[39m \u001b[38;5;28mlist\u001b[39m(key)\n\u001b[1;32m-> 4108\u001b[0m     indexer \u001b[38;5;241m=\u001b[39m \u001b[38;5;28;43mself\u001b[39;49m\u001b[38;5;241;43m.\u001b[39;49m\u001b[43mcolumns\u001b[49m\u001b[38;5;241;43m.\u001b[39;49m\u001b[43m_get_indexer_strict\u001b[49m\u001b[43m(\u001b[49m\u001b[43mkey\u001b[49m\u001b[43m,\u001b[49m\u001b[43m \u001b[49m\u001b[38;5;124;43m\"\u001b[39;49m\u001b[38;5;124;43mcolumns\u001b[39;49m\u001b[38;5;124;43m\"\u001b[39;49m\u001b[43m)\u001b[49m[\u001b[38;5;241m1\u001b[39m]\n\u001b[0;32m   4110\u001b[0m \u001b[38;5;66;03m# take() does not accept boolean indexers\u001b[39;00m\n\u001b[0;32m   4111\u001b[0m \u001b[38;5;28;01mif\u001b[39;00m \u001b[38;5;28mgetattr\u001b[39m(indexer, \u001b[38;5;124m\"\u001b[39m\u001b[38;5;124mdtype\u001b[39m\u001b[38;5;124m\"\u001b[39m, \u001b[38;5;28;01mNone\u001b[39;00m) \u001b[38;5;241m==\u001b[39m \u001b[38;5;28mbool\u001b[39m:\n",
      "File \u001b[1;32m~\\AppData\\Local\\Packages\\PythonSoftwareFoundation.Python.3.10_qbz5n2kfra8p0\\LocalCache\\local-packages\\Python310\\site-packages\\pandas\\core\\indexes\\base.py:6200\u001b[0m, in \u001b[0;36mIndex._get_indexer_strict\u001b[1;34m(self, key, axis_name)\u001b[0m\n\u001b[0;32m   6197\u001b[0m \u001b[38;5;28;01melse\u001b[39;00m:\n\u001b[0;32m   6198\u001b[0m     keyarr, indexer, new_indexer \u001b[38;5;241m=\u001b[39m \u001b[38;5;28mself\u001b[39m\u001b[38;5;241m.\u001b[39m_reindex_non_unique(keyarr)\n\u001b[1;32m-> 6200\u001b[0m \u001b[38;5;28;43mself\u001b[39;49m\u001b[38;5;241;43m.\u001b[39;49m\u001b[43m_raise_if_missing\u001b[49m\u001b[43m(\u001b[49m\u001b[43mkeyarr\u001b[49m\u001b[43m,\u001b[49m\u001b[43m \u001b[49m\u001b[43mindexer\u001b[49m\u001b[43m,\u001b[49m\u001b[43m \u001b[49m\u001b[43maxis_name\u001b[49m\u001b[43m)\u001b[49m\n\u001b[0;32m   6202\u001b[0m keyarr \u001b[38;5;241m=\u001b[39m \u001b[38;5;28mself\u001b[39m\u001b[38;5;241m.\u001b[39mtake(indexer)\n\u001b[0;32m   6203\u001b[0m \u001b[38;5;28;01mif\u001b[39;00m \u001b[38;5;28misinstance\u001b[39m(key, Index):\n\u001b[0;32m   6204\u001b[0m     \u001b[38;5;66;03m# GH 42790 - Preserve name from an Index\u001b[39;00m\n",
      "File \u001b[1;32m~\\AppData\\Local\\Packages\\PythonSoftwareFoundation.Python.3.10_qbz5n2kfra8p0\\LocalCache\\local-packages\\Python310\\site-packages\\pandas\\core\\indexes\\base.py:6252\u001b[0m, in \u001b[0;36mIndex._raise_if_missing\u001b[1;34m(self, key, indexer, axis_name)\u001b[0m\n\u001b[0;32m   6249\u001b[0m     \u001b[38;5;28;01mraise\u001b[39;00m \u001b[38;5;167;01mKeyError\u001b[39;00m(\u001b[38;5;124mf\u001b[39m\u001b[38;5;124m\"\u001b[39m\u001b[38;5;124mNone of [\u001b[39m\u001b[38;5;132;01m{\u001b[39;00mkey\u001b[38;5;132;01m}\u001b[39;00m\u001b[38;5;124m] are in the [\u001b[39m\u001b[38;5;132;01m{\u001b[39;00maxis_name\u001b[38;5;132;01m}\u001b[39;00m\u001b[38;5;124m]\u001b[39m\u001b[38;5;124m\"\u001b[39m)\n\u001b[0;32m   6251\u001b[0m not_found \u001b[38;5;241m=\u001b[39m \u001b[38;5;28mlist\u001b[39m(ensure_index(key)[missing_mask\u001b[38;5;241m.\u001b[39mnonzero()[\u001b[38;5;241m0\u001b[39m]]\u001b[38;5;241m.\u001b[39munique())\n\u001b[1;32m-> 6252\u001b[0m \u001b[38;5;28;01mraise\u001b[39;00m \u001b[38;5;167;01mKeyError\u001b[39;00m(\u001b[38;5;124mf\u001b[39m\u001b[38;5;124m\"\u001b[39m\u001b[38;5;132;01m{\u001b[39;00mnot_found\u001b[38;5;132;01m}\u001b[39;00m\u001b[38;5;124m not in index\u001b[39m\u001b[38;5;124m\"\u001b[39m)\n",
      "\u001b[1;31mKeyError\u001b[0m: \"['activity_level'] not in index\""
     ]
    }
   ],
   "source": [
    "\n",
    "from datetime import timedelta\n",
    "\n",
    "# Define the date range for the analysis\n",
    "end_date = df_data_matches['activity_date'].max()\n",
    "start_date = end_date - timedelta(days=60)  # Changed to 60 days for consistency with filtering\n",
    "\n",
    "# Filter data for the last 60 days\n",
    "filtered_df = df_data_matches[(df_data_matches['activity_date'] >= start_date) & (df_data_matches['activity_date'] <= end_date)]\n",
    "\n",
    "# Calculate the total number of matches played by each player\n",
    "player_match_counts = filtered_df.groupby('user_id')['n_matches'].sum().reset_index()\n",
    "player_match_counts.rename(columns={'n_matches': 'total_matches'}, inplace=True)\n",
    "\n",
    "# Determine the thresholds for activity levels\n",
    "very_high_threshold = player_match_counts['total_matches'].quantile(0.9)\n",
    "high_threshold = player_match_counts['total_matches'].quantile(0.7)\n",
    "medium_threshold = player_match_counts['total_matches'].quantile(0.4)\n",
    "low_threshold = player_match_counts['total_matches'].quantile(0.2)\n",
    "\n",
    "\n",
    "# Merge activity levels back into the original filtered DataFrame\n",
    "filtered_df = filtered_df.merge(player_match_counts[['user_id', 'activity_level']], on='user_id', how='left')\n",
    "\n",
    "# Calculate summary statistics for each activity level\n",
    "activity_summary = filtered_df.groupby('activity_level').agg(\n",
    "    total_matches=('n_matches', 'sum'),\n",
    "    player_count=('user_id', 'nunique'),\n",
    "    average_bots_per_match=('bots', 'mean'),\n",
    "    average_position_per_match=('finish_position', 'mean')\n",
    ").reset_index()\n",
    "\n",
    "# Calculate total number of players\n",
    "total_players = activity_summary['player_count'].sum()\n",
    "\n",
    "# Calculate player count percentage\n",
    "activity_summary['player_percentage'] = (activity_summary['player_count'] / total_players) * 100\n",
    "\n",
    "# Calculate total number of matches\n",
    "total_matches_played = activity_summary['total_matches'].sum()\n",
    "\n",
    "# Calculate match count percentage\n",
    "activity_summary['match_percentage'] = (activity_summary['total_matches'] / total_matches_played) * 100\n",
    "\n",
    "# Print the results\n",
    "print(\"Player Activity Summary (Last 60 Days):\")\n",
    "print(activity_summary)\n"
   ]
  },
  {
   "cell_type": "code",
   "execution_count": 43,
   "metadata": {},
   "outputs": [
    {
     "name": "stdout",
     "output_type": "stream",
     "text": [
      "List of Players with Their Frequency (Last 62 Days):\n",
      "   user_id  total_matches  average_bots_per_match  average_position_per_match  \\\n",
      "0   272069              7                    0.80                        2.80   \n",
      "1   272070            662                    1.15                        2.61   \n",
      "2   272071             17                    1.80                        2.73   \n",
      "3   272073              2                    3.00                        2.00   \n",
      "4   272077              3                    3.00                        3.00   \n",
      "\n",
      "  first_activity_date last_activity_date  number_of_days  \n",
      "0          2024-04-12         2024-04-20               9  \n",
      "1          2024-03-19         2024-05-01              44  \n",
      "2          2024-04-15         2024-04-27              13  \n",
      "3          2024-04-12         2024-04-12               1  \n",
      "4          2024-03-27         2024-04-30              35  \n"
     ]
    }
   ],
   "source": [
    "\n",
    "# Define the date range for the analysis\n",
    "end_date = df_data_matches['activity_date'].max()\n",
    "start_date = end_date - timedelta(days=62)  # Use 62 days as specified\n",
    "\n",
    "# Filter data for the last 62 days\n",
    "filtered_df = df_data_matches[(df_data_matches['activity_date'] >= start_date) & (df_data_matches['activity_date'] <= end_date)]\n",
    "\n",
    "# Calculate the total number of matches played by each player\n",
    "player_match_counts = filtered_df.groupby('user_id').agg(\n",
    "    total_matches=('n_matches', 'sum'),\n",
    "    average_bots_per_match=('bots', 'mean'),\n",
    "    average_position_per_match=('finish_position', 'mean'),\n",
    "    first_activity_date=('activity_date', 'min'),\n",
    "    last_activity_date=('activity_date', 'max')\n",
    ").reset_index()\n",
    "\n",
    "\n",
    "# Calculate the number of days of activity\n",
    "player_match_counts['number_of_days'] = ((player_match_counts['last_activity_date'] - player_match_counts['first_activity_date']).dt.days) + 1\n",
    "\n",
    "# Sort players by their user_id, reset index, and round float columns\n",
    "sorted_player_list = player_match_counts.sort_values(by='user_id', ascending=True).reset_index(drop=True)\n",
    "\n",
    "# Round float columns to 2 decimal places\n",
    "for col in sorted_player_list.columns:\n",
    "    if sorted_player_list[col].dtype == 'float64':\n",
    "        sorted_player_list[col] = sorted_player_list[col].round(2)\n",
    "\n",
    "# Change the data type of user_id\n",
    "sorted_player_list['user_id'] = sorted_player_list['user_id'].astype(int)\n",
    "\n",
    "# Print the list of players with their frequency\n",
    "print(\"List of Players with Their Frequency (Last 62 Days):\")\n",
    "print(sorted_player_list.head())\n"
   ]
  },
  {
   "cell_type": "code",
   "execution_count": 44,
   "metadata": {},
   "outputs": [
    {
     "name": "stdout",
     "output_type": "stream",
     "text": [
      "Number of Unique Activity Days for Each Player:\n",
      "        user_id  unique_activity_days\n",
      "0      272069.0                     2\n",
      "1      272070.0                    44\n",
      "2      272071.0                     6\n",
      "3      272073.0                     1\n",
      "4      272077.0                     3\n",
      "...         ...                   ...\n",
      "28197  309398.0                     2\n",
      "28198  309399.0                     1\n",
      "28199  309400.0                     1\n",
      "28200  309401.0                     1\n",
      "28201  309402.0                     4\n",
      "\n",
      "[28202 rows x 2 columns]\n"
     ]
    }
   ],
   "source": [
    "# Group by user_id and count unique activity dates\n",
    "activity_days_summary = df_data_matches.groupby('user_id')['activity_date'].nunique().reset_index()\n",
    "activity_days_summary.rename(columns={'activity_date': 'unique_activity_days'}, inplace=True)\n",
    "\n",
    "# Print the results\n",
    "print(\"Number of Unique Activity Days for Each Player:\")\n",
    "print(activity_days_summary)\n"
   ]
  },
  {
   "cell_type": "code",
   "execution_count": 45,
   "metadata": {},
   "outputs": [
    {
     "data": {
      "text/html": [
       "<div>\n",
       "<style scoped>\n",
       "    .dataframe tbody tr th:only-of-type {\n",
       "        vertical-align: middle;\n",
       "    }\n",
       "\n",
       "    .dataframe tbody tr th {\n",
       "        vertical-align: top;\n",
       "    }\n",
       "\n",
       "    .dataframe thead th {\n",
       "        text-align: right;\n",
       "    }\n",
       "</style>\n",
       "<table border=\"1\" class=\"dataframe\">\n",
       "  <thead>\n",
       "    <tr style=\"text-align: right;\">\n",
       "      <th></th>\n",
       "      <th>user_id</th>\n",
       "      <th>total_matches</th>\n",
       "      <th>average_bots_per_match</th>\n",
       "      <th>average_position_per_match</th>\n",
       "      <th>first_activity_date</th>\n",
       "      <th>last_activity_date</th>\n",
       "      <th>number_of_days</th>\n",
       "      <th>unique_activity_days</th>\n",
       "    </tr>\n",
       "  </thead>\n",
       "  <tbody>\n",
       "    <tr>\n",
       "      <th>0</th>\n",
       "      <td>272069</td>\n",
       "      <td>7</td>\n",
       "      <td>0.80</td>\n",
       "      <td>2.80</td>\n",
       "      <td>2024-04-12</td>\n",
       "      <td>2024-04-20</td>\n",
       "      <td>9</td>\n",
       "      <td>2</td>\n",
       "    </tr>\n",
       "    <tr>\n",
       "      <th>1</th>\n",
       "      <td>272070</td>\n",
       "      <td>662</td>\n",
       "      <td>1.15</td>\n",
       "      <td>2.61</td>\n",
       "      <td>2024-03-19</td>\n",
       "      <td>2024-05-01</td>\n",
       "      <td>44</td>\n",
       "      <td>44</td>\n",
       "    </tr>\n",
       "    <tr>\n",
       "      <th>2</th>\n",
       "      <td>272071</td>\n",
       "      <td>17</td>\n",
       "      <td>1.80</td>\n",
       "      <td>2.73</td>\n",
       "      <td>2024-04-15</td>\n",
       "      <td>2024-04-27</td>\n",
       "      <td>13</td>\n",
       "      <td>6</td>\n",
       "    </tr>\n",
       "    <tr>\n",
       "      <th>3</th>\n",
       "      <td>272073</td>\n",
       "      <td>2</td>\n",
       "      <td>3.00</td>\n",
       "      <td>2.00</td>\n",
       "      <td>2024-04-12</td>\n",
       "      <td>2024-04-12</td>\n",
       "      <td>1</td>\n",
       "      <td>1</td>\n",
       "    </tr>\n",
       "    <tr>\n",
       "      <th>4</th>\n",
       "      <td>272077</td>\n",
       "      <td>3</td>\n",
       "      <td>3.00</td>\n",
       "      <td>3.00</td>\n",
       "      <td>2024-03-27</td>\n",
       "      <td>2024-04-30</td>\n",
       "      <td>35</td>\n",
       "      <td>3</td>\n",
       "    </tr>\n",
       "  </tbody>\n",
       "</table>\n",
       "</div>"
      ],
      "text/plain": [
       "   user_id  total_matches  average_bots_per_match  average_position_per_match  \\\n",
       "0   272069              7                    0.80                        2.80   \n",
       "1   272070            662                    1.15                        2.61   \n",
       "2   272071             17                    1.80                        2.73   \n",
       "3   272073              2                    3.00                        2.00   \n",
       "4   272077              3                    3.00                        3.00   \n",
       "\n",
       "  first_activity_date last_activity_date  number_of_days  unique_activity_days  \n",
       "0          2024-04-12         2024-04-20               9                     2  \n",
       "1          2024-03-19         2024-05-01              44                    44  \n",
       "2          2024-04-15         2024-04-27              13                     6  \n",
       "3          2024-04-12         2024-04-12               1                     1  \n",
       "4          2024-03-27         2024-04-30              35                     3  "
      ]
     },
     "execution_count": 45,
     "metadata": {},
     "output_type": "execute_result"
    }
   ],
   "source": [
    "data_matches_summary = pd.merge(sorted_player_list, activity_days_summary, on='user_id', how='inner')\n",
    "data_matches.head()"
   ]
  },
  {
   "cell_type": "code",
   "execution_count": 48,
   "metadata": {},
   "outputs": [],
   "source": [
    "data_matches.to_csv('data_matches_summary.csv',index=False)"
   ]
  }
 ],
 "metadata": {
  "kernelspec": {
   "display_name": "Python 3",
   "language": "python",
   "name": "python3"
  },
  "language_info": {
   "codemirror_mode": {
    "name": "ipython",
    "version": 3
   },
   "file_extension": ".py",
   "mimetype": "text/x-python",
   "name": "python",
   "nbconvert_exporter": "python",
   "pygments_lexer": "ipython3",
   "version": "3.10.11"
  }
 },
 "nbformat": 4,
 "nbformat_minor": 2
}
