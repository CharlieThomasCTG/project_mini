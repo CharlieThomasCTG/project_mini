{
 "cells": [
  {
   "cell_type": "code",
   "execution_count": 12,
   "metadata": {},
   "outputs": [],
   "source": [
    "# Importing the necessary libraries\n",
    "import pandas as pd\n",
    "import numpy as np\n",
    "import seaborn as sns\n",
    "import matplotlib.pyplot as plt\n",
    "from datetime import timedelta"
   ]
  },
  {
   "cell_type": "code",
   "execution_count": null,
   "metadata": {},
   "outputs": [],
   "source": [
    "# Understand the Data Structure\n",
    "# First, let's understand the dataset structure. Based on the snippet you provided, the data has the following columns:\n",
    "\n",
    "# user_id: Unique identifier for each user.\n",
    "# activity_date: Date of the purchase activity.\n",
    "# product_group: Category of the product purchased (e.g., \"Gold\", \"Promotion\", \"Remove Ads\").\n",
    "# dollar_purchase_value: Amount spent on the purchase.\n",
    "# purchase_number: A sequential number indicating the order of purchases by the user."
   ]
  },
  {
   "cell_type": "code",
   "execution_count": 20,
   "metadata": {},
   "outputs": [
    {
     "data": {
      "text/html": [
       "<div>\n",
       "<style scoped>\n",
       "    .dataframe tbody tr th:only-of-type {\n",
       "        vertical-align: middle;\n",
       "    }\n",
       "\n",
       "    .dataframe tbody tr th {\n",
       "        vertical-align: top;\n",
       "    }\n",
       "\n",
       "    .dataframe thead th {\n",
       "        text-align: right;\n",
       "    }\n",
       "</style>\n",
       "<table border=\"1\" class=\"dataframe\">\n",
       "  <thead>\n",
       "    <tr style=\"text-align: right;\">\n",
       "      <th></th>\n",
       "      <th>user_id</th>\n",
       "      <th>activity_date</th>\n",
       "      <th>product_group</th>\n",
       "      <th>dollar_purchase_value</th>\n",
       "      <th>purchase_number</th>\n",
       "    </tr>\n",
       "  </thead>\n",
       "  <tbody>\n",
       "    <tr>\n",
       "      <th>0</th>\n",
       "      <td>299207</td>\n",
       "      <td>01/03/2024</td>\n",
       "      <td>Gold</td>\n",
       "      <td>4.99</td>\n",
       "      <td>4</td>\n",
       "    </tr>\n",
       "    <tr>\n",
       "      <th>1</th>\n",
       "      <td>308639</td>\n",
       "      <td>20/04/2024</td>\n",
       "      <td>Promotion</td>\n",
       "      <td>4.99</td>\n",
       "      <td>1</td>\n",
       "    </tr>\n",
       "    <tr>\n",
       "      <th>2</th>\n",
       "      <td>292230</td>\n",
       "      <td>30/03/2024</td>\n",
       "      <td>Gold</td>\n",
       "      <td>9.99</td>\n",
       "      <td>13</td>\n",
       "    </tr>\n",
       "    <tr>\n",
       "      <th>3</th>\n",
       "      <td>300371</td>\n",
       "      <td>29/03/2024</td>\n",
       "      <td>Remove Ads</td>\n",
       "      <td>4.99</td>\n",
       "      <td>5</td>\n",
       "    </tr>\n",
       "    <tr>\n",
       "      <th>4</th>\n",
       "      <td>278774</td>\n",
       "      <td>16/04/2024</td>\n",
       "      <td>Promotion</td>\n",
       "      <td>4.99</td>\n",
       "      <td>5</td>\n",
       "    </tr>\n",
       "  </tbody>\n",
       "</table>\n",
       "</div>"
      ],
      "text/plain": [
       "   user_id activity_date product_group  dollar_purchase_value  purchase_number\n",
       "0   299207    01/03/2024          Gold                   4.99                4\n",
       "1   308639    20/04/2024     Promotion                   4.99                1\n",
       "2   292230    30/03/2024          Gold                   9.99               13\n",
       "3   300371    29/03/2024    Remove Ads                   4.99                5\n",
       "4   278774    16/04/2024     Promotion                   4.99                5"
      ]
     },
     "execution_count": 20,
     "metadata": {},
     "output_type": "execute_result"
    }
   ],
   "source": [
    "df_data_in_app_purchases =pd.read_csv('data_in_app_purchases.csv')\n",
    "df_data_in_app_purchases.head()"
   ]
  },
  {
   "cell_type": "code",
   "execution_count": 23,
   "metadata": {},
   "outputs": [
    {
     "name": "stdout",
     "output_type": "stream",
     "text": [
      "             user_id                  activity_date  dollar_purchase_value  \\\n",
      "count    4230.000000                           4230            4182.000000   \n",
      "mean   290851.391017  2024-03-30 21:47:34.468085248               5.995739   \n",
      "min    272143.000000            2024-03-01 00:00:00               4.990000   \n",
      "25%    281020.000000            2024-03-17 00:00:00               4.990000   \n",
      "50%    290462.000000            2024-04-01 00:00:00               4.990000   \n",
      "75%    300489.000000            2024-04-13 00:00:00               4.990000   \n",
      "max    309395.000000            2024-05-01 00:00:00              29.990000   \n",
      "std     11004.295679                            NaN               3.076473   \n",
      "\n",
      "       purchase_number  \n",
      "count      4230.000000  \n",
      "mean         10.181560  \n",
      "min           1.000000  \n",
      "25%           2.000000  \n",
      "50%           4.000000  \n",
      "75%           9.000000  \n",
      "max         152.000000  \n",
      "std          20.503387  \n",
      "product_group\n",
      "Gold          1885\n",
      "Promotion     1757\n",
      "Remove Ads     588\n",
      "Name: count, dtype: int64\n"
     ]
    }
   ],
   "source": [
    "# Basic Descriptive Statistics\n",
    "# Get a sense of the overall data distribution and metrics:\n",
    "# Descriptive statistics for numerical columns\n",
    "print(df_data_in_app_purchases.describe())\n",
    "\n",
    "# Unique counts and distribution in categorical columns\n",
    "print(df_data_in_app_purchases['product_group'].value_counts())\n"
   ]
  },
  {
   "cell_type": "code",
   "execution_count": 24,
   "metadata": {},
   "outputs": [
    {
     "name": "stdout",
     "output_type": "stream",
     "text": [
      "product_group\n",
      "Gold          12351.19\n",
      "Promotion     10008.43\n",
      "Remove Ads     2714.56\n",
      "Name: dollar_purchase_value, dtype: float64\n"
     ]
    }
   ],
   "source": [
    "# Identify Key Metrics and Patterns\n",
    "# Here are some potential areas to explore for actionable insights:\n",
    "# Top Products by Revenue\n",
    "# Identify which product groups generate the most revenue:\n",
    "# Group by 'product_group' and calculate total revenue\n",
    "product_revenue = df_data_in_app_purchases.groupby('product_group')['dollar_purchase_value'].sum().sort_values(ascending=False)\n",
    "print(product_revenue)\n"
   ]
  },
  {
   "cell_type": "code",
   "execution_count": 25,
   "metadata": {},
   "outputs": [
    {
     "name": "stdout",
     "output_type": "stream",
     "text": [
      "month\n",
      "2024-03    12478.18\n",
      "2024-04    12376.36\n",
      "2024-05      219.64\n",
      "Freq: M, Name: dollar_purchase_value, dtype: float64\n"
     ]
    },
    {
     "data": {
      "text/plain": [
       "<Axes: title={'center': 'Monthly Revenue Trend'}, xlabel='Month', ylabel='Total Revenue'>"
      ]
     },
     "execution_count": 25,
     "metadata": {},
     "output_type": "execute_result"
    },
    {
     "data": {
      "image/png": "[encoded data removed]",
      "text/plain": [
       "<Figure size 432x288 with 1 Axes>"
      ]
     },
     "metadata": {
      "needs_background": "light"
     },
     "output_type": "display_data"
    }
   ],
   "source": [
    "# Purchase Trends Over Time\n",
    "# Analyze how purchases change over time (e.g., by month or week):\n",
    "# Add a 'month' column to analyze monthly trends\n",
    "df_data_in_app_purchases['month'] = df_data_in_app_purchases['activity_date'].dt.to_period('M')\n",
    "\n",
    "# Group by 'month' and calculate total revenue\n",
    "monthly_revenue = df_data_in_app_purchases.groupby('month')['dollar_purchase_value'].sum()\n",
    "print(monthly_revenue)\n",
    "\n",
    "# Plot the monthly revenue trends\n",
    "monthly_revenue.plot(kind='line', title='Monthly Revenue Trend', xlabel='Month', ylabel='Total Revenue')\n"
   ]
  },
  {
   "cell_type": "code",
   "execution_count": 26,
   "metadata": {},
   "outputs": [
    {
     "name": "stdout",
     "output_type": "stream",
     "text": [
      "       total_purchases  total_spend\n",
      "count      1042.000000  1042.000000\n",
      "mean          4.059501    24.063512\n",
      "std           7.885730    56.015340\n",
      "min           1.000000     0.000000\n",
      "25%           1.000000     4.990000\n",
      "50%           2.000000     9.980000\n",
      "75%           4.000000    24.950000\n",
      "max         152.000000  1240.720000\n"
     ]
    },
    {
     "data": {
      "text/plain": [
       "<Axes: title={'center': 'Distribution of User Spend'}, xlabel='Total Spend', ylabel='Frequency'>"
      ]
     },
     "execution_count": 26,
     "metadata": {},
     "output_type": "execute_result"
    },
    {
     "data": {
      "image/png": "[encoded data removed]",
      "text/plain": [
       "<Figure size 432x288 with 1 Axes>"
      ]
     },
     "metadata": {
      "needs_background": "light"
     },
     "output_type": "display_data"
    }
   ],
   "source": [
    "# User Purchase Behavior\n",
    "# Analyze how frequently users make purchases and how much they spend:\n",
    "# Calculate total purchases and total spend per user\n",
    "user_purchase_behavior = df_data_in_app_purchases.groupby('user_id').agg(\n",
    "    total_purchases=('purchase_number', 'max'),\n",
    "    total_spend=('dollar_purchase_value', 'sum')\n",
    ")\n",
    "print(user_purchase_behavior.describe())\n",
    "\n",
    "# Plot distribution of total spend\n",
    "user_purchase_behavior['total_spend'].plot(kind='hist', bins=20, title='Distribution of User Spend', xlabel='Total Spend')\n"
   ]
  },
  {
   "cell_type": "code",
   "execution_count": 27,
   "metadata": {},
   "outputs": [
    {
     "name": "stdout",
     "output_type": "stream",
     "text": [
      "         total_purchases  total_spend\n",
      "user_id                              \n",
      "279199               128      1240.72\n",
      "282798               152       758.48\n",
      "292230                47       334.53\n",
      "284707                37       314.63\n",
      "279328                33       309.67\n",
      "299527                49       269.51\n",
      "280804                19       249.81\n",
      "276293                37       199.63\n",
      "305048                24       194.76\n",
      "299270                36       194.64\n",
      "         total_purchases  total_spend\n",
      "user_id                              \n",
      "282798               152       758.48\n",
      "279199               128      1240.72\n",
      "299527                49       269.51\n",
      "292230                47       334.53\n",
      "276293                37       199.63\n",
      "284707                37       314.63\n",
      "299270                36       194.64\n",
      "279328                33       309.67\n",
      "283220                32       169.68\n",
      "299625                31       164.69\n"
     ]
    }
   ],
   "source": [
    "# Identify High-Value Customers\n",
    "# Find users who spend the most or make the most frequent purchases:\n",
    "# Top 10 users by total spend\n",
    "top_spenders = user_purchase_behavior.sort_values(by='total_spend', ascending=False).head(10)\n",
    "print(top_spenders)\n",
    "\n",
    "# Top 10 users by number of purchases\n",
    "top_buyers = user_purchase_behavior.sort_values(by='total_purchases', ascending=False).head(10)\n",
    "print(top_buyers)\n"
   ]
  },
  {
   "cell_type": "code",
   "execution_count": 28,
   "metadata": {},
   "outputs": [
    {
     "name": "stdout",
     "output_type": "stream",
     "text": [
      "Total revenue from promotions: $10008.43\n",
      "product_group\n",
      "Gold          1885\n",
      "Promotion     1757\n",
      "Remove Ads     588\n",
      "Name: count, dtype: int64\n"
     ]
    }
   ],
   "source": [
    "# Promotion Effectiveness\n",
    "# Evaluate how promotions are affecting purchases and revenue:\n",
    "# Filter purchases made through promotions\n",
    "promotion_purchases = df_data_in_app_purchases[df_data_in_app_purchases['product_group'] == 'Promotion']\n",
    "\n",
    "# Calculate the revenue generated by promotions\n",
    "promotion_revenue = promotion_purchases['dollar_purchase_value'].sum()\n",
    "print(f\"Total revenue from promotions: ${promotion_revenue:.2f}\")\n",
    "\n",
    "# Compare promotion purchases to other product groups\n",
    "purchase_comparison = df_data_in_app_purchases['product_group'].value_counts()\n",
    "print(purchase_comparison)\n"
   ]
  },
  {
   "cell_type": "markdown",
   "metadata": {},
   "source": [
    "\n",
    "After performing the analysis, interpret the findings to generate actionable insights. Here are a few examples:\n",
    "\n",
    "High-Performing Products: Focus on promoting and developing high-revenue product groups.\n",
    "User Segmentation: Tailor marketing strategies for high-value customers or frequent buyers.\n",
    "Promotion Strategy: Refine promotional offers based on their effectiveness in driving revenue."
   ]
  },
  {
   "cell_type": "code",
   "execution_count": 29,
   "metadata": {},
   "outputs": [
    {
     "data": {
      "text/html": [
       "<div>\n",
       "<style scoped>\n",
       "    .dataframe tbody tr th:only-of-type {\n",
       "        vertical-align: middle;\n",
       "    }\n",
       "\n",
       "    .dataframe tbody tr th {\n",
       "        vertical-align: top;\n",
       "    }\n",
       "\n",
       "    .dataframe thead th {\n",
       "        text-align: right;\n",
       "    }\n",
       "</style>\n",
       "<table border=\"1\" class=\"dataframe\">\n",
       "  <thead>\n",
       "    <tr style=\"text-align: right;\">\n",
       "      <th></th>\n",
       "      <th>user_id</th>\n",
       "      <th>total_purchase_value_inApp</th>\n",
       "      <th>total_purchases_inApp</th>\n",
       "      <th>first_purchase_date_inApp</th>\n",
       "      <th>last_purchase_date_inApp</th>\n",
       "      <th>number_of_purchase_days_inApp</th>\n",
       "      <th>average_purchase_value_inApp</th>\n",
       "    </tr>\n",
       "  </thead>\n",
       "  <tbody>\n",
       "    <tr>\n",
       "      <th>0</th>\n",
       "      <td>272143</td>\n",
       "      <td>4.99</td>\n",
       "      <td>1</td>\n",
       "      <td>2024-03-01</td>\n",
       "      <td>2024-03-01</td>\n",
       "      <td>1</td>\n",
       "      <td>4.99</td>\n",
       "    </tr>\n",
       "    <tr>\n",
       "      <th>1</th>\n",
       "      <td>272161</td>\n",
       "      <td>9.99</td>\n",
       "      <td>1</td>\n",
       "      <td>2024-04-15</td>\n",
       "      <td>2024-04-15</td>\n",
       "      <td>1</td>\n",
       "      <td>9.99</td>\n",
       "    </tr>\n",
       "    <tr>\n",
       "      <th>2</th>\n",
       "      <td>272164</td>\n",
       "      <td>129.94</td>\n",
       "      <td>6</td>\n",
       "      <td>2024-04-15</td>\n",
       "      <td>2024-05-01</td>\n",
       "      <td>4</td>\n",
       "      <td>21.66</td>\n",
       "    </tr>\n",
       "    <tr>\n",
       "      <th>3</th>\n",
       "      <td>272189</td>\n",
       "      <td>89.86</td>\n",
       "      <td>14</td>\n",
       "      <td>2024-03-06</td>\n",
       "      <td>2024-04-21</td>\n",
       "      <td>10</td>\n",
       "      <td>6.42</td>\n",
       "    </tr>\n",
       "    <tr>\n",
       "      <th>4</th>\n",
       "      <td>272192</td>\n",
       "      <td>9.98</td>\n",
       "      <td>2</td>\n",
       "      <td>2024-04-14</td>\n",
       "      <td>2024-04-14</td>\n",
       "      <td>1</td>\n",
       "      <td>4.99</td>\n",
       "    </tr>\n",
       "    <tr>\n",
       "      <th>...</th>\n",
       "      <td>...</td>\n",
       "      <td>...</td>\n",
       "      <td>...</td>\n",
       "      <td>...</td>\n",
       "      <td>...</td>\n",
       "      <td>...</td>\n",
       "      <td>...</td>\n",
       "    </tr>\n",
       "    <tr>\n",
       "      <th>1037</th>\n",
       "      <td>309220</td>\n",
       "      <td>64.88</td>\n",
       "      <td>12</td>\n",
       "      <td>2024-03-10</td>\n",
       "      <td>2024-04-27</td>\n",
       "      <td>11</td>\n",
       "      <td>5.41</td>\n",
       "    </tr>\n",
       "    <tr>\n",
       "      <th>1038</th>\n",
       "      <td>309232</td>\n",
       "      <td>14.97</td>\n",
       "      <td>3</td>\n",
       "      <td>2024-03-08</td>\n",
       "      <td>2024-04-02</td>\n",
       "      <td>2</td>\n",
       "      <td>4.99</td>\n",
       "    </tr>\n",
       "    <tr>\n",
       "      <th>1039</th>\n",
       "      <td>309279</td>\n",
       "      <td>4.99</td>\n",
       "      <td>1</td>\n",
       "      <td>2024-04-02</td>\n",
       "      <td>2024-04-02</td>\n",
       "      <td>1</td>\n",
       "      <td>4.99</td>\n",
       "    </tr>\n",
       "    <tr>\n",
       "      <th>1040</th>\n",
       "      <td>309320</td>\n",
       "      <td>4.99</td>\n",
       "      <td>1</td>\n",
       "      <td>2024-04-12</td>\n",
       "      <td>2024-04-12</td>\n",
       "      <td>1</td>\n",
       "      <td>4.99</td>\n",
       "    </tr>\n",
       "    <tr>\n",
       "      <th>1041</th>\n",
       "      <td>309395</td>\n",
       "      <td>29.94</td>\n",
       "      <td>6</td>\n",
       "      <td>2024-03-20</td>\n",
       "      <td>2024-03-27</td>\n",
       "      <td>5</td>\n",
       "      <td>4.99</td>\n",
       "    </tr>\n",
       "  </tbody>\n",
       "</table>\n",
       "<p>1042 rows × 7 columns</p>\n",
       "</div>"
      ],
      "text/plain": [
       "      user_id  total_purchase_value_inApp  total_purchases_inApp  \\\n",
       "0      272143                        4.99                      1   \n",
       "1      272161                        9.99                      1   \n",
       "2      272164                      129.94                      6   \n",
       "3      272189                       89.86                     14   \n",
       "4      272192                        9.98                      2   \n",
       "...       ...                         ...                    ...   \n",
       "1037   309220                       64.88                     12   \n",
       "1038   309232                       14.97                      3   \n",
       "1039   309279                        4.99                      1   \n",
       "1040   309320                        4.99                      1   \n",
       "1041   309395                       29.94                      6   \n",
       "\n",
       "     first_purchase_date_inApp last_purchase_date_inApp  \\\n",
       "0                   2024-03-01               2024-03-01   \n",
       "1                   2024-04-15               2024-04-15   \n",
       "2                   2024-04-15               2024-05-01   \n",
       "3                   2024-03-06               2024-04-21   \n",
       "4                   2024-04-14               2024-04-14   \n",
       "...                        ...                      ...   \n",
       "1037                2024-03-10               2024-04-27   \n",
       "1038                2024-03-08               2024-04-02   \n",
       "1039                2024-04-02               2024-04-02   \n",
       "1040                2024-04-12               2024-04-12   \n",
       "1041                2024-03-20               2024-03-27   \n",
       "\n",
       "      number_of_purchase_days_inApp  average_purchase_value_inApp  \n",
       "0                                 1                          4.99  \n",
       "1                                 1                          9.99  \n",
       "2                                 4                         21.66  \n",
       "3                                10                          6.42  \n",
       "4                                 1                          4.99  \n",
       "...                             ...                           ...  \n",
       "1037                             11                          5.41  \n",
       "1038                              2                          4.99  \n",
       "1039                              1                          4.99  \n",
       "1040                              1                          4.99  \n",
       "1041                              5                          4.99  \n",
       "\n",
       "[1042 rows x 7 columns]"
      ]
     },
     "execution_count": 29,
     "metadata": {},
     "output_type": "execute_result"
    }
   ],
   "source": [
    "# Convert 'activity_date' to datetime format\n",
    "df_data_in_app_purchases['activity_date'] = pd.to_datetime(df_data_in_app_purchases['activity_date'], format='%d/%m/%Y')\n",
    "\n",
    "# Calculate total purchase value and total number of purchases per user\n",
    "user_purchase_summary_inApp = df_data_in_app_purchases.groupby('user_id').agg(\n",
    "    total_purchase_value_inApp=('dollar_purchase_value', 'sum'),\n",
    "    total_purchases_inApp=('purchase_number', 'count'),\n",
    "    first_purchase_date_inApp = ('activity_date','min'),\n",
    "    last_purchase_date_inApp=('activity_date','max'),\n",
    "    number_of_purchase_days_inApp=('activity_date','nunique')\n",
    ").reset_index()\n",
    "\n",
    "# Calculate average purchase per user\n",
    "user_purchase_summary_inApp['average_purchase_value_inApp'] = round(user_purchase_summary_inApp['total_purchase_value_inApp'] / user_purchase_summary_inApp['total_purchases_inApp'],2)\n",
    "\n",
    "# Display the average purchase value per user\n",
    "user_purchase_summary_inApp"
   ]
  },
  {
   "cell_type": "code",
   "execution_count": 30,
   "metadata": {},
   "outputs": [],
   "source": [
    "user_purchase_summary_inApp.to_csv('user_purchase_summary_inApp.csv',index=False)"
   ]
  }
 ],
 "metadata": {
  "kernelspec": {
   "display_name": "Python 3",
   "language": "python",
   "name": "python3"
  },
  "language_info": {
   "codemirror_mode": {
    "name": "ipython",
    "version": 3
   },
   "file_extension": ".py",
   "mimetype": "text/x-python",
   "name": "python",
   "nbconvert_exporter": "python",
   "pygments_lexer": "ipython3",
   "version": "3.10.11"
  }
 },
 "nbformat": 4,
 "nbformat_minor": 2
}
