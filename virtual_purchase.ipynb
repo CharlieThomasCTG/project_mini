{
 "cells": [
  {
   "cell_type": "code",
   "execution_count": 1,
   "metadata": {},
   "outputs": [],
   "source": [
    "# Importing the necessary libraries\n",
    "import pandas as pd\n",
    "import numpy as np\n",
    "import seaborn as sns\n",
    "import matplotlib.pyplot as plt\n",
    "from datetime import timedelta"
   ]
  },
  {
   "cell_type": "code",
   "execution_count": 22,
   "metadata": {},
   "outputs": [
    {
     "data": {
      "text/html": [
       "<div>\n",
       "<style scoped>\n",
       "    .dataframe tbody tr th:only-of-type {\n",
       "        vertical-align: middle;\n",
       "    }\n",
       "\n",
       "    .dataframe tbody tr th {\n",
       "        vertical-align: top;\n",
       "    }\n",
       "\n",
       "    .dataframe thead th {\n",
       "        text-align: right;\n",
       "    }\n",
       "</style>\n",
       "<table border=\"1\" class=\"dataframe\">\n",
       "  <thead>\n",
       "    <tr style=\"text-align: right;\">\n",
       "      <th></th>\n",
       "      <th>user_id</th>\n",
       "      <th>activity_date</th>\n",
       "      <th>product_group</th>\n",
       "      <th>n_purchases</th>\n",
       "      <th>gold_spend</th>\n",
       "    </tr>\n",
       "  </thead>\n",
       "  <tbody>\n",
       "    <tr>\n",
       "      <th>0</th>\n",
       "      <td>303932</td>\n",
       "      <td>15/04/2024</td>\n",
       "      <td>Weapon</td>\n",
       "      <td>3</td>\n",
       "      <td>15</td>\n",
       "    </tr>\n",
       "    <tr>\n",
       "      <th>1</th>\n",
       "      <td>295960</td>\n",
       "      <td>15/04/2024</td>\n",
       "      <td>Weapon</td>\n",
       "      <td>5</td>\n",
       "      <td>25</td>\n",
       "    </tr>\n",
       "    <tr>\n",
       "      <th>2</th>\n",
       "      <td>275717</td>\n",
       "      <td>15/04/2024</td>\n",
       "      <td>Weapon</td>\n",
       "      <td>2</td>\n",
       "      <td>18</td>\n",
       "    </tr>\n",
       "    <tr>\n",
       "      <th>3</th>\n",
       "      <td>272271</td>\n",
       "      <td>15/04/2024</td>\n",
       "      <td>Weapon</td>\n",
       "      <td>9</td>\n",
       "      <td>370</td>\n",
       "    </tr>\n",
       "    <tr>\n",
       "      <th>4</th>\n",
       "      <td>303640</td>\n",
       "      <td>15/04/2024</td>\n",
       "      <td>Weapon</td>\n",
       "      <td>4</td>\n",
       "      <td>20</td>\n",
       "    </tr>\n",
       "  </tbody>\n",
       "</table>\n",
       "</div>"
      ],
      "text/plain": [
       "   user_id activity_date product_group  n_purchases  gold_spend\n",
       "0   303932    15/04/2024        Weapon            3          15\n",
       "1   295960    15/04/2024        Weapon            5          25\n",
       "2   275717    15/04/2024        Weapon            2          18\n",
       "3   272271    15/04/2024        Weapon            9         370\n",
       "4   303640    15/04/2024        Weapon            4          20"
      ]
     },
     "execution_count": 22,
     "metadata": {},
     "output_type": "execute_result"
    }
   ],
   "source": [
    "\n",
    "df_data_virtual_purchases = pd.read_csv('data_virtual_purchases.csv')\n",
    "df_data_virtual_purchases.head()"
   ]
  },
  {
   "cell_type": "code",
   "execution_count": 16,
   "metadata": {},
   "outputs": [
    {
     "name": "stdout",
     "output_type": "stream",
     "text": [
      "             user_id   n_purchases    gold_spend\n",
      "count   69123.000000  69123.000000  69123.000000\n",
      "mean   290805.264442      2.239284     95.859540\n",
      "std     10753.678909      2.003506    789.868785\n",
      "min    272070.000000      1.000000      0.000000\n",
      "25%    281485.000000      1.000000     10.000000\n",
      "50%    290808.000000      1.000000     20.000000\n",
      "75%    300069.000000      3.000000     45.000000\n",
      "max    309402.000000     93.000000  60489.000000\n"
     ]
    }
   ],
   "source": [
    "# Basic Descriptive Statistics\n",
    "# To get a quick overview of the data, let's compute some descriptive statistics for the numerical columns:\n",
    "# Get descriptive statistics\n",
    "print(df_data_virtual_purchases.describe())"
   ]
  },
  {
   "cell_type": "code",
   "execution_count": 43,
   "metadata": {},
   "outputs": [
    {
     "name": "stdout",
     "output_type": "stream",
     "text": [
      "<class 'pandas.core.frame.DataFrame'>\n",
      "RangeIndex: 69123 entries, 0 to 69122\n",
      "Data columns (total 5 columns):\n",
      " #   Column         Non-Null Count  Dtype         \n",
      "---  ------         --------------  -----         \n",
      " 0   user_id        69123 non-null  int64         \n",
      " 1   activity_date  69123 non-null  datetime64[ns]\n",
      " 2   product_group  69123 non-null  object        \n",
      " 3   n_purchases    69123 non-null  int64         \n",
      " 4   gold_spend     69123 non-null  int64         \n",
      "dtypes: datetime64[ns](1), int64(3), object(1)\n",
      "memory usage: 2.6+ MB\n",
      "None\n"
     ]
    }
   ],
   "source": [
    "# Check for any missing values and data types\n",
    "print(df_data_virtual_purchases.info())"
   ]
  },
  {
   "cell_type": "code",
   "execution_count": 17,
   "metadata": {},
   "outputs": [
    {
     "name": "stdout",
     "output_type": "stream",
     "text": [
      "count    69123.000000\n",
      "mean         2.239284\n",
      "std          2.003506\n",
      "min          1.000000\n",
      "25%          1.000000\n",
      "50%          1.000000\n",
      "75%          3.000000\n",
      "max         93.000000\n",
      "Name: n_purchases, dtype: float64\n",
      "count    69123.000000\n",
      "mean        95.859540\n",
      "std        789.868785\n",
      "min          0.000000\n",
      "25%         10.000000\n",
      "50%         20.000000\n",
      "75%         45.000000\n",
      "max      60489.000000\n",
      "Name: gold_spend, dtype: float64\n",
      "Total Purchases: 154786\n",
      "Total Gold Spent: 6626099\n"
     ]
    }
   ],
   "source": [
    "# Analyze User Purchases\n",
    "# Let's analyze the number of purchases made by users and the amount of gold spent:\n",
    "\n",
    "# Analyze the distribution of the number of purchases\n",
    "print(df_data_virtual_purchases['n_purchases'].describe())\n",
    "\n",
    "# Analyze the distribution of gold spend\n",
    "print(df_data_virtual_purchases['gold_spend'].describe())\n",
    "\n",
    "# Calculate total purchases and total gold spent\n",
    "total_purchases = df_data_virtual_purchases['n_purchases'].sum()\n",
    "total_gold_spent = df_data_virtual_purchases['gold_spend'].sum()\n",
    "\n",
    "print(f\"Total Purchases: {total_purchases}\")\n",
    "print(f\"Total Gold Spent: {total_gold_spent}\")"
   ]
  },
  {
   "cell_type": "code",
   "execution_count": 18,
   "metadata": {},
   "outputs": [
    {
     "name": "stdout",
     "output_type": "stream",
     "text": [
      "  product_group  total_purchases  total_gold_spend  average_gold_per_purchase\n",
      "0         Boost            17425           2322821                 238.091533\n",
      "1          Gear             1113           2047214                2511.919018\n",
      "2        Weapon           136248           2256064                  38.530947\n"
     ]
    }
   ],
   "source": [
    "# Group by Product Group\n",
    "# To understand which product groups are more popular and generate more revenue, we can group the data by product_group:\n",
    "# Group by product_group and calculate the sum of purchases and gold spent\n",
    "grouped_data = df_data_virtual_purchases.groupby('product_group').agg(\n",
    "    total_purchases=('n_purchases', 'sum'),\n",
    "    total_gold_spend=('gold_spend', 'sum'),\n",
    "    average_gold_per_purchase=('gold_spend', 'mean')\n",
    ").reset_index()\n",
    "\n",
    "print(grouped_data)"
   ]
  },
  {
   "cell_type": "code",
   "execution_count": 19,
   "metadata": {},
   "outputs": [
    {
     "name": "stdout",
     "output_type": "stream",
     "text": [
      "   activity_date  total_purchases  total_gold_spend\n",
      "0     2024-03-01             2174             97866\n",
      "1     2024-03-02             2302            148085\n",
      "2     2024-03-03             2678            184339\n",
      "3     2024-03-04             2405             73923\n",
      "4     2024-03-05             2260             71383\n",
      "..           ...              ...               ...\n",
      "57    2024-04-27              752             43030\n",
      "58    2024-04-28              857             79499\n",
      "59    2024-04-29              709             39211\n",
      "60    2024-04-30              593             31718\n",
      "61    2024-05-01              662             64936\n",
      "\n",
      "[62 rows x 3 columns]\n"
     ]
    }
   ],
   "source": [
    "# Time-Based Analysis\n",
    "# If the dataset contains multiple dates, you can analyze the data over time to identify trends. Since the sample data shows only one date, consider checking the dataset for more unique dates:\n",
    "\n",
    "# Convert 'activity_date' to datetime format if not already done\n",
    "df_data_virtual_purchases['activity_date'] = pd.to_datetime(df_data_virtual_purchases['activity_date'], format='%d/%m/%Y')\n",
    "\n",
    "# Analyze the data over time if there are multiple dates\n",
    "purchases_over_time = df_data_virtual_purchases.groupby('activity_date').agg(\n",
    "    total_purchases=('n_purchases', 'sum'),\n",
    "    total_gold_spend=('gold_spend', 'sum')\n",
    ").reset_index()\n",
    "\n",
    "print(purchases_over_time)"
   ]
  },
  {
   "cell_type": "code",
   "execution_count": 20,
   "metadata": {},
   "outputs": [
    {
     "name": "stdout",
     "output_type": "stream",
     "text": [
      "       user_id  total_purchases  total_gold_spend\n",
      "3982    279199              768            483263\n",
      "7062    284707              315            112981\n",
      "19342   306713               28            110502\n",
      "4053    279328              109            102994\n",
      "4902    280804              282             94524\n",
      "11246   292230              137             89561\n",
      "48      272164               13             66403\n",
      "10394   290698              173             58858\n",
      "5764    282387              129             57313\n",
      "3246    277867               41             54728\n"
     ]
    }
   ],
   "source": [
    "# Identify High-Value Users\n",
    "# Identify users who spend the most on purchases, which could be important for targeted marketing or special offers:\n",
    "\n",
    "# Identify high-value users\n",
    "high_value_users = df_data_virtual_purchases.groupby('user_id').agg(\n",
    "    total_purchases=('n_purchases', 'sum'),\n",
    "    total_gold_spend=('gold_spend', 'sum')\n",
    ").reset_index()\n",
    "\n",
    "# Sort by total_gold_spend in descending order to find top spenders\n",
    "high_value_users = high_value_users.sort_values(by='total_gold_spend', ascending=False)\n",
    "\n",
    "print(high_value_users.head(10))  # Display top 10 high-value users"
   ]
  },
  {
   "cell_type": "code",
   "execution_count": 21,
   "metadata": {},
   "outputs": [
    {
     "data": {
      "image/png": "[encoded data removed]",
      "text/plain": [
       "<Figure size 720x432 with 1 Axes>"
      ]
     },
     "metadata": {
      "needs_background": "light"
     },
     "output_type": "display_data"
    },
    {
     "data": {
      "image/png": "[encoded data removed]",
      "text/plain": [
       "<Figure size 720x432 with 1 Axes>"
      ]
     },
     "metadata": {
      "needs_background": "light"
     },
     "output_type": "display_data"
    },
    {
     "data": {
      "image/png": "[encoded data removed]",
      "text/plain": [
       "<Figure size 720x432 with 1 Axes>"
      ]
     },
     "metadata": {
      "needs_background": "light"
     },
     "output_type": "display_data"
    }
   ],
   "source": [
    "# Visualize Insights\n",
    "\n",
    "import matplotlib.pyplot as plt\n",
    "import seaborn as sns\n",
    "\n",
    "# Bar plot for total purchases and gold spend per product group\n",
    "plt.figure(figsize=(10, 6))\n",
    "sns.barplot(data=grouped_data, x='product_group', y='total_purchases')\n",
    "plt.title('Total Purchases per Product Group')\n",
    "plt.show()\n",
    "\n",
    "plt.figure(figsize=(10, 6))\n",
    "sns.barplot(data=grouped_data, x='product_group', y='total_gold_spend')\n",
    "plt.title('Total Gold Spend per Product Group')\n",
    "plt.show()\n",
    "\n",
    "# Line plot for purchases over time\n",
    "plt.figure(figsize=(10, 6))\n",
    "sns.lineplot(data=purchases_over_time, x='activity_date', y='total_purchases', label='Total Purchases')\n",
    "sns.lineplot(data=purchases_over_time, x='activity_date', y='total_gold_spend', label='Total Gold Spend')\n",
    "plt.title('Purchases and Gold Spend Over Time')\n",
    "plt.show()"
   ]
  },
  {
   "cell_type": "markdown",
   "metadata": {},
   "source": [
    "8. Draw Actionable Insights\n",
    "Based on the analysis above, you can draw actionable insights like:\n",
    "\n",
    "Popular Product Groups: Identify which product groups are most popular or generate the most revenue.\n",
    "High-Value Users: Find the top spenders and consider targeted marketing or special offers for these users.\n",
    "Purchasing Trends Over Time: If more dates are available, identify trends in purchases and spending over time to optimize marketing strategies or in-game events.\n",
    "By following these steps, you'll be able to gain a better understanding of user behavior and make data-driven decisions to enhance your strategy."
   ]
  },
  {
   "cell_type": "code",
   "execution_count": 24,
   "metadata": {},
   "outputs": [
    {
     "data": {
      "text/html": [
       "<div>\n",
       "<style scoped>\n",
       "    .dataframe tbody tr th:only-of-type {\n",
       "        vertical-align: middle;\n",
       "    }\n",
       "\n",
       "    .dataframe tbody tr th {\n",
       "        vertical-align: top;\n",
       "    }\n",
       "\n",
       "    .dataframe thead th {\n",
       "        text-align: right;\n",
       "    }\n",
       "</style>\n",
       "<table border=\"1\" class=\"dataframe\">\n",
       "  <thead>\n",
       "    <tr style=\"text-align: right;\">\n",
       "      <th></th>\n",
       "      <th>user_id</th>\n",
       "      <th>activity_date</th>\n",
       "      <th>product_group</th>\n",
       "      <th>n_purchases</th>\n",
       "      <th>gold_spend</th>\n",
       "    </tr>\n",
       "  </thead>\n",
       "  <tbody>\n",
       "    <tr>\n",
       "      <th>0</th>\n",
       "      <td>303932</td>\n",
       "      <td>2024-04-15</td>\n",
       "      <td>Weapon</td>\n",
       "      <td>3</td>\n",
       "      <td>15</td>\n",
       "    </tr>\n",
       "    <tr>\n",
       "      <th>1</th>\n",
       "      <td>295960</td>\n",
       "      <td>2024-04-15</td>\n",
       "      <td>Weapon</td>\n",
       "      <td>5</td>\n",
       "      <td>25</td>\n",
       "    </tr>\n",
       "    <tr>\n",
       "      <th>2</th>\n",
       "      <td>275717</td>\n",
       "      <td>2024-04-15</td>\n",
       "      <td>Weapon</td>\n",
       "      <td>2</td>\n",
       "      <td>18</td>\n",
       "    </tr>\n",
       "    <tr>\n",
       "      <th>3</th>\n",
       "      <td>272271</td>\n",
       "      <td>2024-04-15</td>\n",
       "      <td>Weapon</td>\n",
       "      <td>9</td>\n",
       "      <td>370</td>\n",
       "    </tr>\n",
       "    <tr>\n",
       "      <th>4</th>\n",
       "      <td>303640</td>\n",
       "      <td>2024-04-15</td>\n",
       "      <td>Weapon</td>\n",
       "      <td>4</td>\n",
       "      <td>20</td>\n",
       "    </tr>\n",
       "  </tbody>\n",
       "</table>\n",
       "</div>"
      ],
      "text/plain": [
       "   user_id activity_date product_group  n_purchases  gold_spend\n",
       "0   303932    2024-04-15        Weapon            3          15\n",
       "1   295960    2024-04-15        Weapon            5          25\n",
       "2   275717    2024-04-15        Weapon            2          18\n",
       "3   272271    2024-04-15        Weapon            9         370\n",
       "4   303640    2024-04-15        Weapon            4          20"
      ]
     },
     "execution_count": 24,
     "metadata": {},
     "output_type": "execute_result"
    }
   ],
   "source": [
    "df_data_virtual_purchases.head()"
   ]
  },
  {
   "cell_type": "code",
   "execution_count": 35,
   "metadata": {},
   "outputs": [
    {
     "data": {
      "text/html": [
       "<div>\n",
       "<style scoped>\n",
       "    .dataframe tbody tr th:only-of-type {\n",
       "        vertical-align: middle;\n",
       "    }\n",
       "\n",
       "    .dataframe tbody tr th {\n",
       "        vertical-align: top;\n",
       "    }\n",
       "\n",
       "    .dataframe thead th {\n",
       "        text-align: right;\n",
       "    }\n",
       "</style>\n",
       "<table border=\"1\" class=\"dataframe\">\n",
       "  <thead>\n",
       "    <tr style=\"text-align: right;\">\n",
       "      <th></th>\n",
       "      <th>user_id</th>\n",
       "      <th>total_spend_virtual</th>\n",
       "      <th>total_no_purchases_virtual</th>\n",
       "      <th>first_gold_spend_date_virtual</th>\n",
       "      <th>last_gold_spend_date_virtual</th>\n",
       "      <th>number_of_purchase_days_virtual</th>\n",
       "      <th>average_spend_per_purchase_virtual</th>\n",
       "    </tr>\n",
       "  </thead>\n",
       "  <tbody>\n",
       "    <tr>\n",
       "      <th>0</th>\n",
       "      <td>272070</td>\n",
       "      <td>163</td>\n",
       "      <td>6</td>\n",
       "      <td>2024-03-17</td>\n",
       "      <td>2024-04-04</td>\n",
       "      <td>6</td>\n",
       "      <td>27.17</td>\n",
       "    </tr>\n",
       "    <tr>\n",
       "      <th>1</th>\n",
       "      <td>272071</td>\n",
       "      <td>27</td>\n",
       "      <td>2</td>\n",
       "      <td>2024-04-03</td>\n",
       "      <td>2024-04-12</td>\n",
       "      <td>2</td>\n",
       "      <td>13.50</td>\n",
       "    </tr>\n",
       "    <tr>\n",
       "      <th>2</th>\n",
       "      <td>272077</td>\n",
       "      <td>17</td>\n",
       "      <td>2</td>\n",
       "      <td>2024-03-23</td>\n",
       "      <td>2024-03-24</td>\n",
       "      <td>2</td>\n",
       "      <td>8.50</td>\n",
       "    </tr>\n",
       "    <tr>\n",
       "      <th>3</th>\n",
       "      <td>272079</td>\n",
       "      <td>68</td>\n",
       "      <td>1</td>\n",
       "      <td>2024-04-15</td>\n",
       "      <td>2024-04-15</td>\n",
       "      <td>1</td>\n",
       "      <td>68.00</td>\n",
       "    </tr>\n",
       "    <tr>\n",
       "      <th>4</th>\n",
       "      <td>272082</td>\n",
       "      <td>36</td>\n",
       "      <td>2</td>\n",
       "      <td>2024-04-02</td>\n",
       "      <td>2024-04-04</td>\n",
       "      <td>2</td>\n",
       "      <td>18.00</td>\n",
       "    </tr>\n",
       "    <tr>\n",
       "      <th>...</th>\n",
       "      <td>...</td>\n",
       "      <td>...</td>\n",
       "      <td>...</td>\n",
       "      <td>...</td>\n",
       "      <td>...</td>\n",
       "      <td>...</td>\n",
       "      <td>...</td>\n",
       "    </tr>\n",
       "    <tr>\n",
       "      <th>20854</th>\n",
       "      <td>309398</td>\n",
       "      <td>5</td>\n",
       "      <td>1</td>\n",
       "      <td>2024-03-14</td>\n",
       "      <td>2024-03-14</td>\n",
       "      <td>1</td>\n",
       "      <td>5.00</td>\n",
       "    </tr>\n",
       "    <tr>\n",
       "      <th>20855</th>\n",
       "      <td>309399</td>\n",
       "      <td>34</td>\n",
       "      <td>2</td>\n",
       "      <td>2024-03-01</td>\n",
       "      <td>2024-03-11</td>\n",
       "      <td>2</td>\n",
       "      <td>17.00</td>\n",
       "    </tr>\n",
       "    <tr>\n",
       "      <th>20856</th>\n",
       "      <td>309400</td>\n",
       "      <td>5</td>\n",
       "      <td>1</td>\n",
       "      <td>2024-03-27</td>\n",
       "      <td>2024-03-27</td>\n",
       "      <td>1</td>\n",
       "      <td>5.00</td>\n",
       "    </tr>\n",
       "    <tr>\n",
       "      <th>20857</th>\n",
       "      <td>309401</td>\n",
       "      <td>46</td>\n",
       "      <td>3</td>\n",
       "      <td>2024-03-31</td>\n",
       "      <td>2024-04-03</td>\n",
       "      <td>3</td>\n",
       "      <td>15.33</td>\n",
       "    </tr>\n",
       "    <tr>\n",
       "      <th>20858</th>\n",
       "      <td>309402</td>\n",
       "      <td>32</td>\n",
       "      <td>3</td>\n",
       "      <td>2024-03-06</td>\n",
       "      <td>2024-03-10</td>\n",
       "      <td>3</td>\n",
       "      <td>10.67</td>\n",
       "    </tr>\n",
       "  </tbody>\n",
       "</table>\n",
       "<p>20859 rows × 7 columns</p>\n",
       "</div>"
      ],
      "text/plain": [
       "       user_id  total_spend_virtual  total_no_purchases_virtual  \\\n",
       "0       272070                  163                           6   \n",
       "1       272071                   27                           2   \n",
       "2       272077                   17                           2   \n",
       "3       272079                   68                           1   \n",
       "4       272082                   36                           2   \n",
       "...        ...                  ...                         ...   \n",
       "20854   309398                    5                           1   \n",
       "20855   309399                   34                           2   \n",
       "20856   309400                    5                           1   \n",
       "20857   309401                   46                           3   \n",
       "20858   309402                   32                           3   \n",
       "\n",
       "      first_gold_spend_date_virtual last_gold_spend_date_virtual  \\\n",
       "0                        2024-03-17                   2024-04-04   \n",
       "1                        2024-04-03                   2024-04-12   \n",
       "2                        2024-03-23                   2024-03-24   \n",
       "3                        2024-04-15                   2024-04-15   \n",
       "4                        2024-04-02                   2024-04-04   \n",
       "...                             ...                          ...   \n",
       "20854                    2024-03-14                   2024-03-14   \n",
       "20855                    2024-03-01                   2024-03-11   \n",
       "20856                    2024-03-27                   2024-03-27   \n",
       "20857                    2024-03-31                   2024-04-03   \n",
       "20858                    2024-03-06                   2024-03-10   \n",
       "\n",
       "       number_of_purchase_days_virtual  average_spend_per_purchase_virtual  \n",
       "0                                    6                               27.17  \n",
       "1                                    2                               13.50  \n",
       "2                                    2                                8.50  \n",
       "3                                    1                               68.00  \n",
       "4                                    2                               18.00  \n",
       "...                                ...                                 ...  \n",
       "20854                                1                                5.00  \n",
       "20855                                2                               17.00  \n",
       "20856                                1                                5.00  \n",
       "20857                                3                               15.33  \n",
       "20858                                3                               10.67  \n",
       "\n",
       "[20859 rows x 7 columns]"
      ]
     },
     "execution_count": 35,
     "metadata": {},
     "output_type": "execute_result"
    }
   ],
   "source": [
    "# Convert 'activity_date' to datetime format\n",
    "df_data_virtual_purchases['activity_date'] = pd.to_datetime(df_data_virtual_purchases['activity_date'], format='%d/%m/%Y')\n",
    "\n",
    "# Calculate total purchase value and total number of purchases per user\n",
    "user_purchase_summary_virtual = df_data_virtual_purchases.groupby('user_id').agg(\n",
    "    total_spend_virtual=('gold_spend', 'sum'),\n",
    "    total_no_purchases_virtual=('n_purchases', 'count'),\n",
    "    first_gold_spend_date_virtual = ('activity_date','min'),\n",
    "    last_gold_spend_date_virtual=('activity_date','max'),\n",
    "    number_of_purchase_days_virtual=('activity_date','nunique')\n",
    ").reset_index()\n",
    "\n",
    "# Calculate average purchase per user\n",
    "user_purchase_summary_virtual['average_spend_per_purchase_virtual'] = round(user_purchase_summary_virtual['total_spend_virtual'] / user_purchase_summary_virtual['total_no_purchases_virtual'],2)\n",
    "\n",
    "# Display the average purchase value per user\n",
    "user_purchase_summary_virtual"
   ]
  },
  {
   "cell_type": "code",
   "execution_count": 41,
   "metadata": {},
   "outputs": [],
   "source": [
    "user_purchase_summary_virtual.to_csv('new dataset\\\\user_purchase_summary_virtual.csv',index=False)"
   ]
  }
 ],
 "metadata": {
  "kernelspec": {
   "display_name": "Python 3",
   "language": "python",
   "name": "python3"
  },
  "language_info": {
   "codemirror_mode": {
    "name": "ipython",
    "version": 3
   },
   "file_extension": ".py",
   "mimetype": "text/x-python",
   "name": "python",
   "nbconvert_exporter": "python",
   "pygments_lexer": "ipython3",
   "version": "3.10.11"
  }
 },
 "nbformat": 4,
 "nbformat_minor": 2
}
